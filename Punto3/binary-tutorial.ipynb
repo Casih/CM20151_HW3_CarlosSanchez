{
 "metadata": {
  "name": "",
  "signature": "sha256:5faa45bd3ce9477834d33e7662256b4f4cacb25f8de089c996edd46d5ff6716b"
 },
 "nbformat": 3,
 "nbformat_minor": 0,
 "worksheets": [
  {
   "cells": [
    {
     "cell_type": "markdown",
     "metadata": {},
     "source": [
      "# *_Como leer y escribir archivos binarios en ipython notebook_*"
     ]
    },
    {
     "cell_type": "markdown",
     "metadata": {},
     "source": [
      "Lo primero que debemos saber es que es binario, hay un art\u00edculo de [wikipedia](http://es.wikipedia.org/wiki/C%C3%B3digo_binario) bastante bueno al respecto y si no sabes ni que es binario es un buen lugar para empezar. Sin embargo vamos a explorar la funci\u00f3n ***bin()***"
     ]
    },
    {
     "cell_type": "code",
     "collapsed": false,
     "input": [
      "help(bin)"
     ],
     "language": "python",
     "metadata": {},
     "outputs": [
      {
       "output_type": "stream",
       "stream": "stdout",
       "text": [
        "Help on built-in function bin in module __builtin__:\n",
        "\n",
        "bin(...)\n",
        "    bin(number) -> string\n",
        "    \n",
        "    Return the binary representation of an integer or long integer.\n",
        "\n"
       ]
      }
     ],
     "prompt_number": 9
    },
    {
     "cell_type": "markdown",
     "metadata": {},
     "source": [
      "Como podemos ver en la documentaci\u00f3n la funci\u00f3n bin nos devuelve una representaci\u00f3n de un entero, vamos a probarla"
     ]
    },
    {
     "cell_type": "code",
     "collapsed": false,
     "input": [
      "bin(10)"
     ],
     "language": "python",
     "metadata": {},
     "outputs": [
      {
       "metadata": {},
       "output_type": "pyout",
       "prompt_number": 12,
       "text": [
        "'0b1010'"
       ]
      }
     ],
     "prompt_number": 12
    },
    {
     "cell_type": "markdown",
     "metadata": {},
     "source": [
      "De hecho la representaci\u00f3n binaria de 10 es \u00fanicamente 1010 el 0b del inicio es caracteristico de una representacion de dos d\u00edgitos. vamos a importar un paquete para convertir objetos de binario a ascii y viceversa hay mas informaci\u00f3n sobre este [aqu\u00ed](https://docs.python.org/2/library/binascii.html)"
     ]
    },
    {
     "cell_type": "code",
     "collapsed": false,
     "input": [
      "import binascii as ba"
     ],
     "language": "python",
     "metadata": {},
     "outputs": [],
     "prompt_number": 31
    },
    {
     "cell_type": "markdown",
     "metadata": {},
     "source": [
      "Veamos una funcion de este paquete, que nos servir\u00e1 para obtener una representaci\u00f3n hexadecimal de un string"
     ]
    },
    {
     "cell_type": "code",
     "collapsed": false,
     "input": [
      "help(ba.hexlify)"
     ],
     "language": "python",
     "metadata": {},
     "outputs": [
      {
       "output_type": "stream",
       "stream": "stdout",
       "text": [
        "Help on built-in function hexlify in module binascii:\n",
        "\n",
        "hexlify(...)\n",
        "    b2a_hex(data) -> s; Hexadecimal representation of binary data.\n",
        "    \n",
        "    This function is also available as \"hexlify()\".\n",
        "\n"
       ]
      }
     ],
     "prompt_number": 32
    },
    {
     "cell_type": "markdown",
     "metadata": {},
     "source": [
      "De manera que podemos obtener una representacion tipo int para cualquier string y posteriormente convertitlo usando ***bin()***\n",
      " \n",
      "el 16 corresponde a codificaci\u00f3n *hexadecimal* \n"
     ]
    },
    {
     "cell_type": "code",
     "collapsed": false,
     "input": [
      "num_bin = bin(int(ba.hexlify('Hola amigo este es el numero 10'),16)) \n",
      "print num_bin"
     ],
     "language": "python",
     "metadata": {},
     "outputs": [
      {
       "output_type": "stream",
       "stream": "stdout",
       "text": [
        "0b1001000011011110110110001100001001000000110000101101101011010010110011101101111001000000110010101110011011101000110010100100000011001010111001100100000011001010110110000100000011011100111010101101101011001010111001001101111001000000011000100110000\n"
       ]
      }
     ],
     "prompt_number": 48
    },
    {
     "cell_type": "markdown",
     "metadata": {},
     "source": [
      "que puede ser revertido con la funci\u00f3n ***unhexlify()*** convirtiendo el string obtenido por int a binario nuevamente, el 2 corresponde a codificacion *binaria* de la misma manera en la que el 16 correspond\u00eda a hexadecimal"
     ]
    },
    {
     "cell_type": "code",
     "collapsed": false,
     "input": [
      "ba.unhexlify('%x' % int(num_bin,2))"
     ],
     "language": "python",
     "metadata": {},
     "outputs": [
      {
       "metadata": {},
       "output_type": "pyout",
       "prompt_number": 51,
       "text": [
        "'Hola amigo este es el numero 10'"
       ]
      }
     ],
     "prompt_number": 51
    },
    {
     "cell_type": "markdown",
     "metadata": {},
     "source": [
      "Creemos dos funciones para traducir a binario y de vuelta"
     ]
    },
    {
     "cell_type": "code",
     "collapsed": false,
     "input": [
      "def texttobin(n):\n",
      "    num_bin = bin(int(ba.hexlify(n),16))\n",
      "    return num_bin\n",
      "\n",
      "def bintotext(n):\n",
      "    bin_num = ba.unhexlify('%x' %int(n,2))\n",
      "    return bin_num"
     ],
     "language": "python",
     "metadata": {},
     "outputs": [],
     "prompt_number": 65
    },
    {
     "cell_type": "markdown",
     "metadata": {},
     "source": [
      "Ya las creamos ahora probemoslas!"
     ]
    },
    {
     "cell_type": "code",
     "collapsed": false,
     "input": [
      "texttobin('hola')"
     ],
     "language": "python",
     "metadata": {},
     "outputs": [
      {
       "metadata": {},
       "output_type": "pyout",
       "prompt_number": 66,
       "text": [
        "'0b1101000011011110110110001100001'"
       ]
      }
     ],
     "prompt_number": 66
    },
    {
     "cell_type": "markdown",
     "metadata": {},
     "source": [
      "Efectivamente podemos traducir de texto a binario"
     ]
    },
    {
     "cell_type": "code",
     "collapsed": false,
     "input": [
      "bintotext('0b1101000011011110110110001100001')"
     ],
     "language": "python",
     "metadata": {},
     "outputs": [
      {
       "metadata": {},
       "output_type": "pyout",
       "prompt_number": 67,
       "text": [
        "'hola'"
       ]
      }
     ],
     "prompt_number": 67
    },
    {
     "cell_type": "markdown",
     "metadata": {},
     "source": [
      "Y tambi\u00e9n de binario a texto, Si compartes estas funciones con tus amigos puedes env\u00edar mensajes encriptados. Ahora pasemos a ver como leer y escribir un archivo en binario, centremonos primero en escribir un archivo binario la siguiente funci\u00f3n sirve para crear un archivo e introducir binario en el, el 'wb' significa *_'write'_* y *_'binary'_*, que resume en dos palabras lo que estamos haciendo:"
     ]
    },
    {
     "cell_type": "code",
     "collapsed": false,
     "input": [
      "def escr_bin(nombre_del_archivo,que_quiere_escribir):\n",
      "    with open(nombre_del_archivo,'wb') as f:\n",
      "        f.write(que_quiere_escribir.encode(\"UTF-8\"))"
     ],
     "language": "python",
     "metadata": {},
     "outputs": [],
     "prompt_number": 95
    },
    {
     "cell_type": "markdown",
     "metadata": {},
     "source": [
      "Una persona muy desocupada podr\u00eda eventualmente ponerse en la tarea de aprender binario y como construir informacion a partir de ceros y unos, y crear archivos de imagen, sonido o video que ultimamente pueden ser representados de esta forma. vamos a implementarla:"
     ]
    },
    {
     "cell_type": "code",
     "collapsed": false,
     "input": [
      "escr_bin('imagen.jpg',texttobin('hola mundo'))\n",
      "escr_bin('texto.txt',b'01001000 01101111 01101100 01100001')"
     ],
     "language": "python",
     "metadata": {},
     "outputs": [],
     "prompt_number": 102
    },
    {
     "cell_type": "markdown",
     "metadata": {},
     "source": [
      "Notese que implementamos la funcion que definimos previamente, y el resultado de la primera implementacio\u00f3n es la creaci\u00f3n de un archivo llamado *imagen.jpg*  que por su extensi\u00f3n tendr\u00e1 formato de imagen pero ser\u00e1 un archivo corrupto. La segunda producir\u00e1 un archivo con  lo que se haya escrito en binario."
     ]
    },
    {
     "cell_type": "markdown",
     "metadata": {},
     "source": [
      "Ahora hagamos una funcion que nos permita leer informacion en binario y podemos implementarla con los archivos que creamos"
     ]
    },
    {
     "cell_type": "code",
     "collapsed": false,
     "input": [
      "def leer_bin(nombre_del_archivo):\n",
      "    with open(nombre_del_archivo, 'rb') as f:\n",
      "        data = f.read()\n",
      "        print data"
     ],
     "language": "python",
     "metadata": {},
     "outputs": [],
     "prompt_number": 105
    },
    {
     "cell_type": "code",
     "collapsed": false,
     "input": [
      "leer_bin('texto.txt')\n",
      "leer_bin('imagen.jpg')"
     ],
     "language": "python",
     "metadata": {},
     "outputs": [
      {
       "output_type": "stream",
       "stream": "stdout",
       "text": [
        "01001000 01101111 01101100 01100001\n",
        "0b1101000011011110110110001100001001000000110110101110101011011100110010001101111\n"
       ]
      }
     ],
     "prompt_number": 106
    },
    {
     "cell_type": "markdown",
     "metadata": {},
     "source": [
      "Efectivamente leemos la informacion que escribimos en los archivos e incluso si tuvieran la  codificacion correcta (\u00fanicamente 0s y 1s), podr\u00edamos abrir otro tipo de archivos."
     ]
    },
    {
     "cell_type": "code",
     "collapsed": false,
     "input": [],
     "language": "python",
     "metadata": {},
     "outputs": []
    }
   ],
   "metadata": {}
  }
 ]
}